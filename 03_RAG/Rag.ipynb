{
 "cells": [
  {
   "cell_type": "markdown",
   "metadata": {},
   "source": [
    "# 환경설정"
   ]
  },
  {
   "cell_type": "code",
   "execution_count": 1,
   "metadata": {},
   "outputs": [
    {
     "data": {
      "text/plain": [
       "True"
      ]
     },
     "execution_count": 1,
     "metadata": {},
     "output_type": "execute_result"
    }
   ],
   "source": [
    "from dotenv import load_dotenv\n",
    "\n",
    "load_dotenv()"
   ]
  },
  {
   "cell_type": "markdown",
   "metadata": {},
   "source": [
    "# 1. 문서로드"
   ]
  },
  {
   "cell_type": "code",
   "execution_count": 2,
   "metadata": {},
   "outputs": [
    {
     "name": "stdout",
     "output_type": "stream",
     "text": [
      "문서의 페이지수 : 25\n"
     ]
    }
   ],
   "source": [
    "from langchain_community.document_loaders import PyMuPDFLoader\n",
    "\n",
    "loader = PyMuPDFLoader(\"data/SPRi AI Brief_10월호_산업동향_F.pdf\")\n",
    "\n",
    "docs = loader.load()\n",
    "\n",
    "print(f\"문서의 페이지수 : {len(docs)}\")"
   ]
  },
  {
   "cell_type": "markdown",
   "metadata": {},
   "source": [
    "# 2. 문서 분할"
   ]
  },
  {
   "cell_type": "code",
   "execution_count": 6,
   "metadata": {},
   "outputs": [
    {
     "name": "stdout",
     "output_type": "stream",
     "text": [
      "분할된 청크의 수 : 499\n"
     ]
    }
   ],
   "source": [
    "from langchain_text_splitters import RecursiveCharacterTextSplitter\n",
    "text_splitter = RecursiveCharacterTextSplitter(chunk_size=100, chunk_overlap=10)\n",
    "split_documents = text_splitter.split_documents(docs)\n",
    "print(f\"분할된 청크의 수 : {len(split_documents)}\")"
   ]
  },
  {
   "cell_type": "markdown",
   "metadata": {},
   "source": [
    "# 3. 임베딩 생성"
   ]
  },
  {
   "cell_type": "code",
   "execution_count": 7,
   "metadata": {},
   "outputs": [],
   "source": [
    "from langchain_openai import OpenAIEmbeddings\n",
    "embeddings = OpenAIEmbeddings()"
   ]
  },
  {
   "cell_type": "markdown",
   "metadata": {},
   "source": [
    "# 4. DB생성"
   ]
  },
  {
   "cell_type": "code",
   "execution_count": 12,
   "metadata": {},
   "outputs": [],
   "source": [
    "from langchain_community.vectorstores import FAISS\n",
    "vectorstore = FAISS.from_documents(documents=split_documents, embedding=embeddings)"
   ]
  },
  {
   "cell_type": "code",
   "execution_count": 13,
   "metadata": {},
   "outputs": [
    {
     "name": "stdout",
     "output_type": "stream",
     "text": [
      "n 일부 의원은 딥페이크 음란물의 제작이 처벌 범위에 빠진 점을 지적하는 한편, 선거 관련 \n",
      "딥페이크에 대한 처벌 요구도 제기 \n",
      "KEY Contents\n",
      "계획을 수립\n",
      "£ 딥페이크 음란물 제작 및 선거 영역까지 처벌 범위를 확대해야 한다는 지적도 제기\n",
      "일각에서는 법안이 불충분하며 동의 없는 딥페이크 음란물의 제작 및 이를 제작하겠다는 위협도 \n",
      "범죄로 간주해야 한다고 주장\n",
      "n 한편, 데이비드 포콕(David Pocock) 무소속 상원 의원은 딥페이크 처벌 범위가 선거와 관련된 영역까지 \n",
      "확대되어야 한다고 지적\n"
     ]
    }
   ],
   "source": [
    "for doc in vectorstore.similarity_search(\"딥페이크\"):\n",
    "    print(doc.page_content)"
   ]
  },
  {
   "cell_type": "markdown",
   "metadata": {},
   "source": [
    "# 5. 검색기 (Retriever) 생성"
   ]
  },
  {
   "cell_type": "code",
   "execution_count": 14,
   "metadata": {},
   "outputs": [],
   "source": [
    "retriever = vectorstore.as_retriever()"
   ]
  },
  {
   "cell_type": "code",
   "execution_count": 15,
   "metadata": {},
   "outputs": [
    {
     "data": {
      "text/plain": [
       "[Document(metadata={'source': 'data/SPRi AI Brief_10월호_산업동향_F.pdf', 'file_path': 'data/SPRi AI Brief_10월호_산업동향_F.pdf', 'page': 5, 'total_pages': 25, 'format': 'PDF 1.4', 'title': '', 'author': 'dj', 'subject': '', 'keywords': '', 'creator': 'Hwp 2018 10.0.0.13947', 'producer': 'Hancom PDF 1.3.0.547', 'creationDate': \"D:20241007090546+09'00'\", 'modDate': \"D:20241007090546+09'00'\", 'trapped': ''}, page_content='n 일부 의원은 딥페이크 음란물의 제작이 처벌 범위에 빠진 점을 지적하는 한편, 선거 관련 \\n딥페이크에 대한 처벌 요구도 제기 \\nKEY Contents'),\n",
       " Document(metadata={'source': 'data/SPRi AI Brief_10월호_산업동향_F.pdf', 'file_path': 'data/SPRi AI Brief_10월호_산업동향_F.pdf', 'page': 5, 'total_pages': 25, 'format': 'PDF 1.4', 'title': '', 'author': 'dj', 'subject': '', 'keywords': '', 'creator': 'Hwp 2018 10.0.0.13947', 'producer': 'Hancom PDF 1.3.0.547', 'creationDate': \"D:20241007090546+09'00'\", 'modDate': \"D:20241007090546+09'00'\", 'trapped': ''}, page_content='일각에서는 법안이 불충분하며 동의 없는 딥페이크 음란물의 제작 및 이를 제작하겠다는 위협도 \\n범죄로 간주해야 한다고 주장'),\n",
       " Document(metadata={'source': 'data/SPRi AI Brief_10월호_산업동향_F.pdf', 'file_path': 'data/SPRi AI Brief_10월호_산업동향_F.pdf', 'page': 5, 'total_pages': 25, 'format': 'PDF 1.4', 'title': '', 'author': 'dj', 'subject': '', 'keywords': '', 'creator': 'Hwp 2018 10.0.0.13947', 'producer': 'Hancom PDF 1.3.0.547', 'creationDate': \"D:20241007090546+09'00'\", 'modDate': \"D:20241007090546+09'00'\", 'trapped': ''}, page_content='계획을 수립\\n£ 딥페이크 음란물 제작 및 선거 영역까지 처벌 범위를 확대해야 한다는 지적도 제기'),\n",
       " Document(metadata={'source': 'data/SPRi AI Brief_10월호_산업동향_F.pdf', 'file_path': 'data/SPRi AI Brief_10월호_산업동향_F.pdf', 'page': 5, 'total_pages': 25, 'format': 'PDF 1.4', 'title': '', 'author': 'dj', 'subject': '', 'keywords': '', 'creator': 'Hwp 2018 10.0.0.13947', 'producer': 'Hancom PDF 1.3.0.547', 'creationDate': \"D:20241007090546+09'00'\", 'modDate': \"D:20241007090546+09'00'\", 'trapped': ''}, page_content='n 한편, 데이비드 포콕(David Pocock) 무소속 상원 의원은 딥페이크 처벌 범위가 선거와 관련된 영역까지 \\n확대되어야 한다고 지적')]"
      ]
     },
     "execution_count": 15,
     "metadata": {},
     "output_type": "execute_result"
    }
   ],
   "source": [
    "retriever.invoke(\"딥페이크가 뭐야?\")"
   ]
  },
  {
   "cell_type": "markdown",
   "metadata": {},
   "source": [
    "# 6. 프롬프트 생성"
   ]
  },
  {
   "cell_type": "code",
   "execution_count": 17,
   "metadata": {},
   "outputs": [],
   "source": [
    "from langchain_core.prompts import PromptTemplate\n",
    "prompt = PromptTemplate.from_template(\n",
    "    \"\"\"You are an assistant for question-answering tasks. \n",
    "Use the following pieces of retrieved context to answer the question.\n",
    "Use a very kind and gentle tone like a kindergarten teacher talking to a child.\n",
    "Speak in a warm and friendly way.\n",
    "If you don't know the answer, just say that you don't know. \n",
    "Answer in Korean. \n",
    "\n",
    "#Context:\n",
    "{context}\n",
    "\n",
    "#Question\n",
    "{question}\n",
    "\n",
    "#Answer:\"\"\"\n",
    "\n",
    "\n",
    ")"
   ]
  },
  {
   "cell_type": "markdown",
   "metadata": {},
   "source": [
    "# 7. LLM모델 생성"
   ]
  },
  {
   "cell_type": "code",
   "execution_count": 19,
   "metadata": {},
   "outputs": [],
   "source": [
    "from langchain_openai import ChatOpenAI\n",
    "llm = ChatOpenAI(model=\"gpt-4o\", temperature=0)"
   ]
  },
  {
   "cell_type": "markdown",
   "metadata": {},
   "source": [
    "# 8. Chain생성"
   ]
  },
  {
   "cell_type": "code",
   "execution_count": 20,
   "metadata": {},
   "outputs": [],
   "source": [
    "from langchain_core.runnables import RunnablePassthrough\n",
    "from langchain_core.output_parsers import StrOutputParser\n",
    "\n",
    "chain = (\n",
    "    {\"context\" : retriever, \"question\" : RunnablePassthrough()}\n",
    "    |prompt\n",
    "    |llm\n",
    "    |StrOutputParser()\n",
    ")"
   ]
  },
  {
   "cell_type": "code",
   "execution_count": 21,
   "metadata": {},
   "outputs": [
    {
     "name": "stdout",
     "output_type": "stream",
     "text": [
      "딥페이크는 아주 재미있는 기술이지만, 몇 가지 문제점이 있어요. 딥페이크를 다른 사람의 동의 없이 사용하면 민주주의를 위협할 수 있대요. 그래서 선거를 보호하기 위해 딥페이크를 금지해야 한다고 해요. 또, 딥페이크 음란물을 만드는 것도 큰 문제인데, 이런 행동은 처벌받아야 한다고 많은 사람들이 말하고 있어요. 딥페이크를 잘못 사용하면 다른 사람에게 큰 피해를 줄 수 있으니 조심해야 해요.\n"
     ]
    }
   ],
   "source": [
    "question = \"딥페이크에 문제점은 뭐야?\"\n",
    "response = chain.invoke(question)\n",
    "\n",
    "print(response)"
   ]
  }
 ],
 "metadata": {
  "kernelspec": {
   "display_name": "langchain_env",
   "language": "python",
   "name": "python3"
  },
  "language_info": {
   "codemirror_mode": {
    "name": "ipython",
    "version": 3
   },
   "file_extension": ".py",
   "mimetype": "text/x-python",
   "name": "python",
   "nbconvert_exporter": "python",
   "pygments_lexer": "ipython3",
   "version": "3.11.10"
  }
 },
 "nbformat": 4,
 "nbformat_minor": 2
}
