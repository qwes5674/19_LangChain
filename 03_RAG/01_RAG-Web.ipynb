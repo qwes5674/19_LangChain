{
 "cells": [
  {
   "cell_type": "code",
   "execution_count": 3,
   "metadata": {},
   "outputs": [
    {
     "name": "stdout",
     "output_type": "stream",
     "text": [
      "Collecting bs4\n",
      "  Downloading bs4-0.0.2-py2.py3-none-any.whl.metadata (411 bytes)\n",
      "Requirement already satisfied: beautifulsoup4 in c:\\users\\20107\\miniforge3\\envs\\langchain_env\\lib\\site-packages (from bs4) (4.12.3)\n",
      "Requirement already satisfied: soupsieve>1.2 in c:\\users\\20107\\miniforge3\\envs\\langchain_env\\lib\\site-packages (from beautifulsoup4->bs4) (2.6)\n",
      "Downloading bs4-0.0.2-py2.py3-none-any.whl (1.2 kB)\n",
      "Installing collected packages: bs4\n",
      "Successfully installed bs4-0.0.2\n"
     ]
    }
   ],
   "source": [
    "!pip install bs4"
   ]
  },
  {
   "cell_type": "code",
   "execution_count": 17,
   "metadata": {},
   "outputs": [
    {
     "name": "stdout",
     "output_type": "stream",
     "text": [
      "[Document(metadata={'source': 'https://n.news.naver.com/article/437/0000416134'}, page_content='\\n\\n\\n\\nJTBC\\n\\nJTBC\\n\\n\\n\\nPICK\\n안내\\n\\n\\n언론사가 주요기사로선정한 기사입니다.\\n언론사별 바로가기\\n닫기\\n\\n\\n\\n\\n로제 \\'아파트\\', 빌보드 \\'핫100\\' 8위 신기록…\"꿈 이뤄졌다\"\\n\\n\\n\\n\\n입력2024.10.29. 오전 9:59\\n\\n기사원문\\n \\n\\n\\n\\n\\n이지현 기자\\n\\n\\n\\n\\n\\n\\n\\n\\n\\n\\n이지현 기자\\n\\n구독\\n구독중\\n\\n\\n\\n\\n구독자\\n0\\n\\n\\n응원수\\n0\\n\\n\\n\\n더보기\\n\\n\\n\\n\\n\\n\\n\\n\\n\\n\\n\\n\\n\\n\\n추천\\n\\n\\n\\n\\n쏠쏠정보\\n0\\n\\n\\n\\n\\n흥미진진\\n0\\n\\n\\n\\n\\n공감백배\\n0\\n\\n\\n\\n\\n분석탁월\\n0\\n\\n\\n\\n\\n후속강추\\n0\\n\\n\\n \\n\\n\\n\\n댓글\\n\\n\\n\\n\\n\\n본문 요약봇\\n\\n\\n\\n본문 요약봇도움말\\n자동 추출 기술로 요약된 내용입니다. 요약 기술의 특성상 본문의 주요 내용이 제외될 수 있어, 전체 맥락을 이해하기 위해서는 기사 본문 전체보기를 권장합니다.\\n닫기\\n\\n\\n\\n\\n\\n\\n\\n\\n텍스트 음성 변환 서비스 사용하기\\n\\n\\n\\n성별\\n남성\\n여성\\n\\n\\n말하기 속도\\n느림\\n보통\\n빠름\\n\\n이동 통신망을 이용하여 음성을 재생하면 별도의 데이터 통화료가 부과될 수 있습니다.\\n본문듣기 시작\\n\\n닫기\\n\\n\\n \\n\\n글자 크기 변경하기\\n\\n\\n\\n가1단계\\n작게\\n\\n\\n가2단계\\n보통\\n\\n\\n가3단계\\n크게\\n\\n\\n가4단계\\n아주크게\\n\\n\\n가5단계\\n최대크게\\n\\n\\n\\n\\n\\n\\nSNS 보내기\\n\\n\\n\\n인쇄하기\\n\\n\\n\\n\\n\\n\\n  \\n\\n\\n\\n로제와 브루노 마스가 함께 부른 \\'APT.\\'(아파트) 〈사진=더블랙레이블〉    블랙핑크 로제와 팝스타 브루노 마스가 함께 부른 \\'아파트(APT.)\\'가 미국 빌보드 메인 싱글 차트 \\'핫100\\' 8위에 올랐습니다.     미국 빌보드는 29일 공식 사회관계망서비스(SNS)를 통해 로제의 \\'아파트\\'가 빌리 아일리시의 \\'버즈오브 어 페더(Birds Of A Feather·3위)\\', 사브리나 카펜터의 \\'에스프레소(Espresso·5위)\\' 등과 함께 톱10에 올랐다고 전했습니다.     로제의 \\'아파트\\'가 세운 8위 기록은 K팝 여성 가수로서는 최고 순위 기록입니다.      \\n\\n\\n\\n미국 빌보드가 공개한 \\'핫100\\'. 로제와 브루노 마스가 함께 부른 \\'아파트\\'가 8위에 올랐다. K팝 여성 가수로는 최고 순위 기록이다. 〈사진=빌보드 SNS〉    이전까지 \\'핫100\\'에서 가장 높은 순위에 오른 건 지난 2020년 블랙핑크가 셀레나 고메즈와 함께 부른 \\'아이스크림(Ice Cream)\\'이 기록한 13위였습니다.     로제는 기존 자신의 기록을 깨고 최고 순위에 올랐습니다.     또 K팝 가수 중에는 방탄소년단·지민·정국(1위), 싸이(2위)에 이어 10위 안에 진입한 다섯 번째 가수로 기록됐습니다.     로제의 \\'아파트\\'는 함께 발표된 빌보드 \\'글로벌\\'(미국제외)과 \\'글로벌200\\' 차트에서도 모두 1위를 차지했습니다.   로제는 이 노래로 앞서 지난 25일(현지시간)에는 빌보드와 함께 세계 양대 차트로 꼽히는 영국 오피셜 싱글 차트 \\'톱100\\'에서도 4위를 차지한 바 있습니다.     로제는 빌보드 순위가 공개된 뒤 자신의 소셜미디어를 통해 \"세상에 무슨 일이 일어나고 있나. 이건 미쳤다\"며 \"넘버원(로제 팬덤), 블링크(블랙핑크 팬덤), 모든 이들에게 감사하다. 내 꿈이 이뤄졌다\"고 소감을 전했습니다.    \\'아파트\\'는 로제가 오는 12월 발표하는 솔로 정규 1집 \\'로지(rosie)\\'의 선공개 곡입니다.  \\n\\n')]\n",
      "노래 '아파트'는 로제와 브루노 마스가 함께 불렀습니다.\n"
     ]
    }
   ],
   "source": [
    "import bs4\n",
    "from dotenv import load_dotenv\n",
    "from langchain_community.document_loaders import WebBaseLoader\n",
    "from langchain_text_splitters import RecursiveCharacterTextSplitter\n",
    "from langchain_openai import OpenAIEmbeddings,ChatOpenAI\n",
    "from langchain_community.vectorstores import FAISS\n",
    "from langchain_core.prompts import PromptTemplate\n",
    "from langchain_core.output_parsers import StrOutputParser\n",
    "from langchain_core.runnables import RunnablePassthrough\n",
    "\n",
    "\n",
    "# 환경변수 가져오기\n",
    "load_dotenv()\n",
    "\n",
    "# 문서 로드\n",
    "loader = WebBaseLoader(\n",
    "    web_path=(\"https://n.news.naver.com/article/437/0000416134\"),\n",
    "    bs_kwargs=dict(\n",
    "        # 특정 요소에서만 파싱하도록 제한하는 필터\n",
    "        parse_only=bs4.SoupStrainer(\n",
    "            \"div\",\n",
    "            attrs={\"class\":[\"newsct_article _article_body\",\"media_end_head go_trans\"]}\n",
    "        )\n",
    "    )\n",
    ")\n",
    "\n",
    "docs = loader.load()\n",
    "\n",
    "print(docs)\n",
    "\n",
    "# 문서 분할\n",
    "text_splitter = RecursiveCharacterTextSplitter(chunk_size=100,chunk_overlap=10)\n",
    "\n",
    "splits = text_splitter.split_documents(docs)\n",
    "\n",
    "# 임베딩 생성\n",
    "\n",
    "embedding = OpenAIEmbeddings()\n",
    "\n",
    "# 백터스토어 생성\n",
    "vectorstore = FAISS.from_documents(documents=splits, embedding=embedding)\n",
    "\n",
    "# 검색기(retriver) 생성\n",
    "retriver = vectorstore.as_retriever()\n",
    "\n",
    "# runtime\n",
    "\n",
    "# 프롬프트\n",
    "prompt = PromptTemplate.from_template(\n",
    "\"\"\"\n",
    "당신은 질문-답변을 수행하는 AI 어시스턴트이다.\n",
    "주어진 문맥에 검색된 다음문맥(context)를 사용해 질문에 답해야 한다.\n",
    "만약 주어진 문맥에서 답을 찾을 수 없는 경우, 모른다고 이야기하세요. \n",
    "한글로 답변해주세요.\n",
    "\n",
    "#Question:\n",
    "{question}\n",
    "\n",
    "#Context:\n",
    "{context}\n",
    "\n",
    "#Answer:\n",
    "\"\"\"\n",
    ")\n",
    "\n",
    "# LLM 모델\n",
    "llm = ChatOpenAI(model=\"gpt-4o\", temperature=0)\n",
    "\n",
    "# Chain 구성\n",
    "news_chain = (\n",
    "    {\"context\":retriver, \"question\":RunnablePassthrough()}\n",
    "    |prompt\n",
    "    |llm\n",
    "    |StrOutputParser()\n",
    ")\n",
    "\n",
    "# 질문\n",
    "answer = news_chain.invoke(\"노래 아파트를 부른 사람은 누구야?\")\n",
    "\n",
    "print(answer)"
   ]
  },
  {
   "cell_type": "code",
   "execution_count": null,
   "metadata": {},
   "outputs": [],
   "source": []
  }
 ],
 "metadata": {
  "kernelspec": {
   "display_name": "langchain_env",
   "language": "python",
   "name": "python3"
  },
  "language_info": {
   "codemirror_mode": {
    "name": "ipython",
    "version": 3
   },
   "file_extension": ".py",
   "mimetype": "text/x-python",
   "name": "python",
   "nbconvert_exporter": "python",
   "pygments_lexer": "ipython3",
   "version": "3.11.10"
  }
 },
 "nbformat": 4,
 "nbformat_minor": 2
}
