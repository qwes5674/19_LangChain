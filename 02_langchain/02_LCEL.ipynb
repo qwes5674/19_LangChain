{
 "cells": [
  {
   "cell_type": "markdown",
   "metadata": {
    "vscode": {
     "languageId": "plaintext"
    }
   },
   "source": [
    "## LCEL (LangChain Expression Language)\n",
    "* 사용자의 입력 -> 프롬프트 템플릿 -> LLM 모델 전달\n",
    "* 각 단계를 차례로 엮어서 하나의 파이프라인으로 만들어주는 것\n",
    "\n",
    "chain = prompt | model | output_parser"
   ]
  },
  {
   "cell_type": "markdown",
   "metadata": {
    "vscode": {
     "languageId": "plaintext"
    }
   },
   "source": [
    "### 프롬프트 탬플릿\n",
    "* 사용자의 입력 변수를 받아서 완전한 프롬프트 문자열을 만드는데 사용하는 템플릿"
   ]
  },
  {
   "cell_type": "code",
   "execution_count": 3,
   "metadata": {},
   "outputs": [],
   "source": [
    "from langchain_core.prompts import PromptTemplate\n",
    "\n",
    "template = \"{lecture}에 대해 설명해주세요\"\n",
    "\n",
    "prompt_template = PromptTemplate(template=template, input_variables=[\"lecture\"])"
   ]
  },
  {
   "cell_type": "code",
   "execution_count": 4,
   "metadata": {},
   "outputs": [
    {
     "name": "stdout",
     "output_type": "stream",
     "text": [
      "스프링에 대해 설명해주세요\n"
     ]
    }
   ],
   "source": [
    "lecture = input(\"궁금한 과목을 입력하세요 : \")\n",
    "\n",
    "prompt = prompt_template.format(lecture=lecture)\n",
    "\n",
    "print(prompt)"
   ]
  },
  {
   "cell_type": "code",
   "execution_count": 5,
   "metadata": {},
   "outputs": [],
   "source": [
    "from langchain_openai import ChatOpenAI\n",
    "\n",
    "model = ChatOpenAI(\n",
    "    model=\"gpt-3.5-turbo\",\n",
    "    temperature=0.1\n",
    ")"
   ]
  },
  {
   "cell_type": "code",
   "execution_count": 7,
   "metadata": {},
   "outputs": [],
   "source": [
    "chain = prompt_template | model"
   ]
  },
  {
   "cell_type": "code",
   "execution_count": 8,
   "metadata": {},
   "outputs": [],
   "source": [
    "# Prompt Template의 변수에 작성할때는 Dictionary 형태로 Key-Value쌍으로\n",
    "# 입력을 줄 수 있다.\n",
    "input = {\"lecture\":\"랭체인\"}"
   ]
  },
  {
   "cell_type": "code",
   "execution_count": 9,
   "metadata": {},
   "outputs": [
    {
     "data": {
      "text/plain": [
       "AIMessage(content='랭체인은 블록체인 기술을 활용하여 게임 산업에 적용된 분산형 게임 개발 플랫폼입니다. 랭체인은 게임 개발자들이 게임을 개발하고 운영하는 데 필요한 다양한 기능을 제공하며, 블록체인 기술을 통해 게임 아이템의 소유권을 보장하고 거래를 안전하게 처리할 수 있습니다.\\n\\n랭체인은 게임 산업의 문제점을 해결하기 위해 설계되었으며, 중앙화된 게임 플랫폼에 의존하지 않고 게임을 개발하고 운영할 수 있는 환경을 제공합니다. 또한, 랭체인은 게임 유저들에게 게임 아이템을 소유하고 거래할 수 있는 기회를 제공하여 게임 경제를 활성화시키고 유저들 간의 상호작용을 촉진합니다.\\n\\n랭체인은 블록체인 기술을 통해 게임의 투명성과 안전성을 보장하며, 게임 개발자들과 유저들 간의 신뢰를 증진시킵니다. 또한, 랭체인은 게임 산업의 혁신을 촉진하고 새로운 비즈니스 모델을 제시하여 게임 산업의 발전을 이끌고 있습니다.', additional_kwargs={'refusal': None}, response_metadata={'token_usage': {'completion_tokens': 437, 'prompt_tokens': 18, 'total_tokens': 455, 'completion_tokens_details': {'audio_tokens': None, 'reasoning_tokens': 0}, 'prompt_tokens_details': {'audio_tokens': None, 'cached_tokens': 0}}, 'model_name': 'gpt-3.5-turbo-0125', 'system_fingerprint': None, 'finish_reason': 'stop', 'logprobs': None}, id='run-86193acf-7866-4279-b2ea-b944475b54e3-0', usage_metadata={'input_tokens': 18, 'output_tokens': 437, 'total_tokens': 455, 'input_token_details': {'cache_read': 0}, 'output_token_details': {'reasoning': 0}})"
      ]
     },
     "execution_count": 9,
     "metadata": {},
     "output_type": "execute_result"
    }
   ],
   "source": [
    "chain.invoke(input)"
   ]
  },
  {
   "cell_type": "markdown",
   "metadata": {},
   "source": [
    "### 출력 형식 지정 (Output Parser)\n",
    "* LLM 모델이 응답해주는 내용에 대한 형식을 지정해주는 것"
   ]
  },
  {
   "cell_type": "code",
   "execution_count": 10,
   "metadata": {},
   "outputs": [],
   "source": [
    "from langchain_core.output_parsers import StrOutputParser\n",
    "\n",
    "output_parser = StrOutputParser()"
   ]
  },
  {
   "cell_type": "code",
   "execution_count": 11,
   "metadata": {},
   "outputs": [],
   "source": [
    "chain = prompt_template | model | output_parser"
   ]
  },
  {
   "cell_type": "code",
   "execution_count": 12,
   "metadata": {},
   "outputs": [
    {
     "data": {
      "text/plain": [
       "'랭체인은 블록체인 기술을 활용하여 게임 산업에 적용된 분산형 게임 개발 플랫폼입니다. 랭체인은 게임 개발자들이 게임을 개발하고 운영하는 데 필요한 다양한 기능을 제공하며, 게임 사용자들에게는 게임 내에서 자산을 소유하고 거래할 수 있는 기회를 제공합니다.\\n\\n랭체인은 블록체인 기술을 통해 게임 내 자산의 소유권을 보장하고 안전하게 거래할 수 있도록 합니다. 또한 블록체인을 통해 게임 데이터의 무결성을 보장하고 부정행위를 방지할 수 있습니다.\\n\\n랭체인은 게임 산업의 혁신을 이끌어내는 중요한 역할을 하고 있으며, 게임 개발자와 사용자 간의 상호작용을 촉진하고 게임 산업의 생태계를 발전시키는 데 기여하고 있습니다. 이를 통해 게임 산업의 성장과 발전을 지원하고 새로운 비즈니스 모델을 창출하는 데 기여하고 있습니다.'"
      ]
     },
     "execution_count": 12,
     "metadata": {},
     "output_type": "execute_result"
    }
   ],
   "source": [
    "chain.invoke(input)"
   ]
  },
  {
   "cell_type": "code",
   "execution_count": 13,
   "metadata": {},
   "outputs": [],
   "source": [
    "### 영어 회화를 알려주는 선생님 챗봇\n",
    "### 어떤 상황을 주면 영어회화 + 한글 해석\n",
    "\n",
    "template = \"\"\"\n",
    "당신은 영어를 가르치는 10년차 선생님입니다. 주어진 상황에 맞는 영어 회화를 작성해주세요\n",
    "양식은 [FORMAT]을 참고하여 작성해주세요\n",
    "\n",
    "#상황:\n",
    "{question}\n",
    "\n",
    "#FORMAT:\n",
    "- 영어 회화:\n",
    "- 한글 해석:\n",
    "\"\"\"\n",
    "# 프롬프트 탬플릿 작성\n",
    "prompt =  PromptTemplate.from_template(template)\n",
    "\n",
    "\n",
    "# 모델 객체 작성\n",
    "model = ChatOpenAI(model_name=\"gpt-4o\")\n",
    "\n",
    "# 문자열 출력 파서 객체 생성\n",
    "output_parser = StrOutputParser()"
   ]
  },
  {
   "cell_type": "code",
   "execution_count": 14,
   "metadata": {},
   "outputs": [],
   "source": [
    "# 체인구성\n",
    "\n",
    "chain = prompt | model | output_parser"
   ]
  },
  {
   "cell_type": "code",
   "execution_count": 15,
   "metadata": {},
   "outputs": [
    {
     "name": "stdout",
     "output_type": "stream",
     "text": [
      "- 영어 회화:\n",
      "  - Server: Hello! Welcome to our restaurant. How many people are in your party?\n",
      "  - You: Hi! Just one, please.\n",
      "  - Server: Great! Please follow me to your table.\n",
      "  - Server: Here is the menu. Can I get you something to drink while you decide on your order?\n",
      "  - You: Yes, I'll have a glass of water, please.\n",
      "  - Server: Sure! Do you have any questions about the menu or are you ready to order?\n",
      "  - You: I'm ready to order. I'd like the grilled chicken salad, please.\n",
      "  - Server: Excellent choice! Would you like any appetizers or sides with that?\n",
      "  - You: No, just the salad is fine, thank you.\n",
      "  - Server: Alright, your order will be ready shortly. Enjoy your meal!\n",
      "\n",
      "- 한글 해석:\n",
      "  - 직원: 안녕하세요! 저희 식당에 오신 것을 환영합니다. 몇 분이신가요?\n",
      "  - 당신: 안녕하세요! 한 명입니다.\n",
      "  - 직원: 좋습니다! 저를 따라오시면 자리를 안내해 드리겠습니다.\n",
      "  - 직원: 여기 메뉴판입니다. 주문을 결정하시는 동안 음료수는 무엇으로 드릴까요?\n",
      "  - 당신: 네, 물 한 잔 주세요.\n",
      "  - 직원: 알겠습니다! 메뉴에 대해 질문이 있으신가요, 아니면 주문 준비가 되셨나요?\n",
      "  - 당신: 주문할 준비가 됐어요. 그릴드 치킨 샐러드로 주세요.\n",
      "  - 직원: 훌륭한 선택입니다! 전채 요리나 사이드는 필요 없으신가요?\n",
      "  - 당신: 아니요, 샐러드만 괜찮습니다, 감사합니다.\n",
      "  - 직원: 알겠습니다, 주문하신 음식은 곧 준비됩니다. 맛있게 드세요!\n"
     ]
    }
   ],
   "source": [
    "# Chain 실행\n",
    "\n",
    "print(chain.invoke({\"question\": \"저는 식당에 가서 음식을 주문하고 싶어요.\"}))"
   ]
  },
  {
   "cell_type": "markdown",
   "metadata": {},
   "source": [
    "여러가지 재료를 변수를 입력 받고, 재료로 요리할 수 있는 <br>\n",
    "요리의 요리명, 재료, 조리법을 포맷으로 받는 템플릿을 작성하고 <br>\n",
    "문자열 출력 파서로 응답을 받을 수 있게 체인을 구성하세요 <br>"
   ]
  },
  {
   "cell_type": "code",
   "execution_count": 16,
   "metadata": {},
   "outputs": [
    {
     "name": "stdout",
     "output_type": "stream",
     "text": [
      "- 요리 이름: 카프레제 샐러드\n",
      "- 재료: \n",
      "  - 토마토\n",
      "  - 바질\n",
      "  - 모짜렐라\n",
      "  - 올리브 오일 (선택 사항)\n",
      "  - 발사믹 글레이즈 (선택 사항)\n",
      "  - 소금과 후추\n",
      "- 조리법:\n",
      "  1. 토마토와 모짜렐라를 약 0.5cm 두께로 슬라이스합니다.\n",
      "  2. 큰 접시에 토마토 슬라이스와 모짜렐라 슬라이스를 번갈아 가며 배열합니다.\n",
      "  3. 신선한 바질 잎을 모짜렐라와 토마토 위에 고르게 올립니다.\n",
      "  4. 기호에 따라 올리브 오일을 살짝 뿌립니다.\n",
      "  5. 선택 사항으로 발사믹 글레이즈를 가볍게 뿌려 맛을 더할 수 있습니다.\n",
      "  6. 소금과 후추로 간을 맞춥니다.\n",
      "  7. 서빙하기 전 몇 분간 재료가 서로 어우러지도록 두었다가 즐기면 됩니다.\n"
     ]
    }
   ],
   "source": [
    "template = \"\"\"\n",
    "당신은 요리사입니다. 주어진 재료를 사용하여 만들 수 있는 요리법을 제안해 주세요.\n",
    "양식은 [FORMAT]을 참고하여 작성해 주세요.\n",
    "\n",
    "#재료:\n",
    "{ingredients}\n",
    "\n",
    "#FORMAT:\n",
    "- 요리 이름:\n",
    "- 재료:\n",
    "- 조리법:\n",
    "\"\"\"\n",
    "\n",
    "# 프롬프트 템플릿을 이용하여 프롬프트를 생성합니다.\n",
    "prompt = PromptTemplate.from_template(template)\n",
    "\n",
    "# ChatOpenAI 챗모델을 초기화합니다.\n",
    "model = ChatOpenAI(model_name=\"gpt-4o\")\n",
    "\n",
    "# 문자열 출력 파서를 초기화합니다.\n",
    "output_parser = StrOutputParser()\n",
    "\n",
    "# 체인을 구성합니다.\n",
    "chain = prompt | model | output_parser\n",
    "\n",
    "# 완성된 Chain을 실행하여 답변을 얻습니다.\n",
    "print(chain.invoke({\"ingredients\": [\"토마토\", \"바질\", \"모짜렐라\"]}))"
   ]
  }
 ],
 "metadata": {
  "kernelspec": {
   "display_name": "langchain_env",
   "language": "python",
   "name": "python3"
  },
  "language_info": {
   "codemirror_mode": {
    "name": "ipython",
    "version": 3
   },
   "file_extension": ".py",
   "mimetype": "text/x-python",
   "name": "python",
   "nbconvert_exporter": "python",
   "pygments_lexer": "ipython3",
   "version": "3.11.10"
  }
 },
 "nbformat": 4,
 "nbformat_minor": 2
}
